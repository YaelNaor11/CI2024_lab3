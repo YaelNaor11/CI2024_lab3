{
  "cells": [
    {
      "cell_type": "markdown",
      "metadata": {
        "vscode": {
          "languageId": "plaintext"
        },
        "id": "Vvo7J9WPdEQ-"
      },
      "source": [
        "Copyright **`(c)`** 2024 Giovanni Squillero `<giovanni.squillero@polito.it>`  \n",
        "[`https://github.com/squillero/computational-intelligence`](https://github.com/squillero/computational-intelligence)  \n",
        "Free under certain conditions — see the [`license`](https://github.com/squillero/computational-intelligence/blob/master/LICENSE.md) for details.  "
      ]
    },
    {
      "cell_type": "code",
      "execution_count": 95,
      "metadata": {
        "id": "I4iwPilldERA"
      },
      "outputs": [],
      "source": [
        "from typing import List, Tuple\n",
        "from collections import namedtuple\n",
        "import random\n",
        "from tqdm import tqdm\n",
        "import heapq\n",
        "\n"
      ]
    },
    {
      "cell_type": "code",
      "execution_count": 96,
      "metadata": {
        "id": "S6DpNsmGdERB"
      },
      "outputs": [],
      "source": [
        "action = namedtuple('Action', ['pos1', 'pos2'])"
      ]
    },
    {
      "cell_type": "markdown",
      "source": [
        "Helper Functions"
      ],
      "metadata": {
        "id": "tMYI7Xk6UTBb"
      }
    },
    {
      "cell_type": "code",
      "execution_count": 98,
      "metadata": {
        "id": "kQGKTalNdERB"
      },
      "outputs": [],
      "source": [
        "# Find the position of the zero (empty tile)\n",
        "def find_empty_pos (state, DIM):\n",
        "  found = False\n",
        "  empty_pos = (0,0)\n",
        "  for x in range(DIM):\n",
        "    for y in range(DIM):\n",
        "      if state[x][y] == 0:\n",
        "        empty_pos = (x, y)\n",
        "        found = True\n",
        "        break\n",
        "    if found == True:\n",
        "      break\n",
        "  return empty_pos\n",
        "\n",
        "def available_actions(state, DIM):\n",
        "    empty_pos = find_empty_pos(state,DIM)\n",
        "    x, y = empty_pos\n",
        "    actions = []\n",
        "\n",
        "    if x > 0:\n",
        "        actions.append(action((x, y), (x - 1, y))) #up\n",
        "    if x < DIM - 1:\n",
        "        actions.append(action((x, y), (x + 1, y))) #down\n",
        "    if y > 0:\n",
        "        actions.append(action((x, y), (x, y - 1))) #left\n",
        "    if y < DIM - 1:\n",
        "        actions.append(action((x, y), (x, y + 1))) #right\n",
        "    return actions\n",
        "\n",
        "\n",
        "def do_action(state, action):\n",
        "    state_list = [list(row) for row in state] #change to lists because tuple is immutable\n",
        "    x1, y1 = action.pos1\n",
        "    x2, y2 = action.pos2\n",
        "    # Swap the tiles in the lists\n",
        "    state_list[x1][y1], state_list[x2][y2] = state_list[x2][y2], state_list[x1][y1]\n",
        "    new_state = tuple(tuple(row) for row in state_list) #create the new tuple\n",
        "    return new_state\n",
        "\n",
        "#how far a state from the solution state\n",
        "def manhattan_distance(state, goal_state,DIM):\n",
        "    distance = 0\n",
        "    for x in range(DIM):\n",
        "        for y in range(DIM):\n",
        "            value = state[x][y]\n",
        "            if value != 0:\n",
        "                goal_x, goal_y = divmod(value - 1, DIM) # calculate the goal position of x,y\n",
        "                distance += abs(x - goal_x) + abs(y - goal_y) #calculate the distance between the corrent pos to the goal pos\n",
        "    return distance\n",
        "\n",
        "\n",
        "def is_visited(myset, state):\n",
        "  return state in myset\n",
        "\n",
        "def initialize_state(state,RANDOMIZE_STEPS,dim):\n",
        "  for r in tqdm(range(RANDOMIZE_STEPS), desc='Randomizing'):\n",
        "    actions = available_actions(state,dim)\n",
        "    state = do_action(state, random.choice(actions))\n",
        "  return state\n",
        "\n",
        "def create_goal_state(dim):\n",
        "    numbers = [i for i in range(1, dim * dim)] + [0]\n",
        "    goal_state = tuple([tuple(numbers[i * dim:(i + 1) * dim]) for i in range(dim)])\n",
        "    return goal_state\n",
        "\n",
        "def print_state(state):\n",
        "    for row in state:\n",
        "        print(' '.join(f\"{num:2}\" for num in row))\n",
        "    print()\n",
        "\n",
        "\n"
      ]
    },
    {
      "cell_type": "markdown",
      "source": [
        "A-STAR algorithm"
      ],
      "metadata": {
        "id": "DVRbLfwV6dxq"
      }
    },
    {
      "cell_type": "code",
      "source": [
        "def A_star(first_state, goal_state, puzzle_dim):\n",
        "    priority_heap = []\n",
        "    visited_states = set()\n",
        "    dict_heap = dict()\n",
        "    g_first_cost = 0\n",
        "    f_first_cost = g_first_cost + manhattan_distance(first_state, goal_state, puzzle_dim) #g+h\n",
        "    g_h_costs = {first_state: (g_first_cost ,f_first_cost)}\n",
        "    first_node = [f_first_cost, first_state]\n",
        "    heapq.heappush(priority_heap, first_node) #add to the heap the first state\n",
        "    dict_heap[first_state] = first_node\n",
        "    index = 1\n",
        "\n",
        "\n",
        "    while len(priority_heap) != 0:\n",
        "      current = heapq.heappop(priority_heap)\n",
        "      current_f = current[0]\n",
        "      current_state = current[1]\n",
        "\n",
        "      if current_state == goal_state: #end game\n",
        "            print(f'The number of actions is: {index}')\n",
        "            print(f'The g_cost is: {g_h_costs[current_state][0]}')\n",
        "            print_state(current_state)\n",
        "            return\n",
        "\n",
        "      if index % 1000 == 0:\n",
        "        print(f'actions number: {index}')\n",
        "        print_state(current_state)\n",
        "\n",
        "      visited_states.add(current_state) #add to the already visited set\n",
        "\n",
        "      for action in available_actions(current_state, puzzle_dim):\n",
        "        new_state = do_action(current_state, action)\n",
        "\n",
        "        if is_visited(visited_states,new_state): #if we already visit this state-ignore\n",
        "          continue\n",
        "\n",
        "        index = index+1\n",
        "\n",
        "        h_new_state = 0\n",
        "        if new_state not in priority_heap:\n",
        "          h_new_state = manhattan_distance(new_state, goal_state, puzzle_dim)\n",
        "          g_new_state = g_h_costs[current_state][0] + 1\n",
        "          f_new_state = g_new_state + h_new_state\n",
        "          g_h_costs[new_state] = (g_new_state,h_new_state)\n",
        "\n",
        "          new_node = [f_new_state, new_state]\n",
        "          heapq.heappush(priority_heap, new_node) #add the new state to the heap\n",
        "          dict_heap[new_state] = new_node\n",
        "\n",
        "        #the state is already in the heap\n",
        "        else:\n",
        "          h_new_state = g_h_costs[new_state][1]\n",
        "          g_new_state = g_h_costs[current_state][0] + 1\n",
        "          f_new_state = g_new_state + h_new_state\n",
        "\n",
        "          if g_new_state < g_h_costs[new_state][0]: #update the shortest way\n",
        "            g_h_costs[new_state] = (g_new_state,h_new_state)\n",
        "            dict_heap[new_state][0] = f_new_state\n",
        "\n"
      ],
      "metadata": {
        "id": "DPwMH1bpk6bk"
      },
      "execution_count": 99,
      "outputs": []
    },
    {
      "cell_type": "code",
      "execution_count": 101,
      "metadata": {
        "colab": {
          "base_uri": "https://localhost:8080/"
        },
        "id": "OAGDjzGrdERB",
        "outputId": "bbce5631-ab73-4bf7-b364-5b9e540ecb1c"
      },
      "outputs": [
        {
          "output_type": "stream",
          "name": "stdout",
          "text": [
            "The goal state is:\n",
            " 1  2  3\n",
            " 4  5  6\n",
            " 7  8  0\n",
            "\n"
          ]
        },
        {
          "output_type": "stream",
          "name": "stderr",
          "text": [
            "Randomizing: 100%|██████████| 1000/1000 [00:00<00:00, 153496.94it/s]"
          ]
        },
        {
          "output_type": "stream",
          "name": "stdout",
          "text": [
            "\n",
            "The initial state is:\n",
            " 7  2  0\n",
            " 8  6  3\n",
            " 4  1  5\n",
            "\n",
            "The number of actions is: 895\n",
            "The g_cost is: 22\n",
            " 1  2  3\n",
            " 4  5  6\n",
            " 7  8  0\n",
            "\n"
          ]
        },
        {
          "output_type": "stream",
          "name": "stderr",
          "text": [
            "\n"
          ]
        }
      ],
      "source": [
        "PUZZLE_DIM = 3\n",
        "RANDOMIZE_STEPS = 1000\n",
        "\n",
        "\n",
        "# create and print the goal state\n",
        "goal_state = create_goal_state(PUZZLE_DIM)\n",
        "print('The goal state is:')\n",
        "print_state(goal_state)\n",
        "\n",
        "# crate and print the randomized state\n",
        "first_state = initialize_state(goal_state,RANDOMIZE_STEPS,PUZZLE_DIM)\n",
        "print('\\nThe initial state is:')\n",
        "print_state(first_state)\n",
        "\n",
        "\n",
        "solution_path = A_star(first_state, goal_state, PUZZLE_DIM)\n"
      ]
    }
  ],
  "metadata": {
    "kernelspec": {
      "display_name": "ci-WEKR9SVn-py3.12",
      "language": "python",
      "name": "python3"
    },
    "language_info": {
      "codemirror_mode": {
        "name": "ipython",
        "version": 3
      },
      "file_extension": ".py",
      "mimetype": "text/x-python",
      "name": "python",
      "nbconvert_exporter": "python",
      "pygments_lexer": "ipython3",
      "version": "3.12.7"
    },
    "colab": {
      "provenance": []
    }
  },
  "nbformat": 4,
  "nbformat_minor": 0
}